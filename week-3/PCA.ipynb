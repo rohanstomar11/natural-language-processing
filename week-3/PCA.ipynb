{
 "cells": [
  {
   "cell_type": "markdown",
   "id": "5307f815",
   "metadata": {},
   "source": [
    "# PCA"
   ]
  },
  {
   "cell_type": "code",
   "execution_count": 1,
   "id": "8c76fc3a",
   "metadata": {},
   "outputs": [],
   "source": [
    "import numpy as np\n",
    "import matplotlib.pyplot as plt\n",
    "import pickle\n",
    "from vector_package import get_vecs #get_vec to get the embedding vector for the word"
   ]
  },
  {
   "cell_type": "code",
   "execution_count": 2,
   "id": "0a21dc50",
   "metadata": {},
   "outputs": [],
   "source": [
    "def compute_pca(data, n_components=2):\n",
    "    data_mean = data-np.mean(data, axis=None) #mean normalizing the data\n",
    "    \n",
    "    data_cov = np.cov(data_mean, rowvar=False) #calculating covariance matrix for the data\n",
    "    \n",
    "    eigen_vals, eigen_vecs = np.linalg.eigh(data_cov, UPLO='L') #calculating eigen values and eigen vector from covariance matrix\n",
    "    \n",
    "    idx_sorted = np.argsort(eigen_vals) #sort eigen values in increasing order (get the indices)\n",
    "    \n",
    "    idx_sorted_decreasing = idx_sorted[::-1] #changing the order to decreasing order\n",
    "    \n",
    "    eigen_vals_sorted = eigen_vals[idx_sorted_decreasing] #sorting the eigen values by decreasing order\n",
    "    \n",
    "    eigen_vecs_sorted = eigen_vecs[:, idx_sorted_decreasing] # sorting eigen vectors by decreasing order\n",
    "    \n",
    "    eigen_vec_subset = eigen_vecs_sorted[:,0:n_components] #choosing first n vectors\n",
    "    \n",
    "    data_reduced = np.dot(eigen_vec_subset.transpose(), data_mean.transpose()).transpose() #(X'U')'\n",
    "    \n",
    "    return data_reduced"
   ]
  },
  {
   "cell_type": "code",
   "execution_count": 3,
   "id": "78a3959d",
   "metadata": {},
   "outputs": [
    {
     "data": {
      "text/plain": [
       "array([[4.17022005e-01, 7.20324493e-01, 1.14374817e-04, 3.02332573e-01,\n",
       "        1.46755891e-01, 9.23385948e-02, 1.86260211e-01, 3.45560727e-01,\n",
       "        3.96767474e-01, 5.38816734e-01],\n",
       "       [4.19194514e-01, 6.85219500e-01, 2.04452250e-01, 8.78117436e-01,\n",
       "        2.73875932e-02, 6.70467510e-01, 4.17304802e-01, 5.58689828e-01,\n",
       "        1.40386939e-01, 1.98101489e-01],\n",
       "       [8.00744569e-01, 9.68261576e-01, 3.13424178e-01, 6.92322616e-01,\n",
       "        8.76389152e-01, 8.94606664e-01, 8.50442114e-02, 3.90547832e-02,\n",
       "        1.69830420e-01, 8.78142503e-01]])"
      ]
     },
     "execution_count": 3,
     "metadata": {},
     "output_type": "execute_result"
    }
   ],
   "source": [
    "np.random.seed(1) # providing a random seed\n",
    "X = np.random.rand(3,10) #3x10 matrix with random values\n",
    "X"
   ]
  },
  {
   "cell_type": "code",
   "execution_count": 4,
   "id": "d2011ad4",
   "metadata": {},
   "outputs": [],
   "source": [
    "X_reduced = compute_pca(X, n_components=2) #computing PCA where n=2"
   ]
  },
  {
   "cell_type": "code",
   "execution_count": 5,
   "id": "6fd97549",
   "metadata": {},
   "outputs": [
    {
     "data": {
      "text/plain": [
       "array([[ 0.23132424,  0.43767745],\n",
       "       [ 0.2177235 , -0.56404087],\n",
       "       [-1.0581947 , -0.05521575]])"
      ]
     },
     "execution_count": 5,
     "metadata": {},
     "output_type": "execute_result"
    }
   ],
   "source": [
    "X_reduced #reduced matrix"
   ]
  },
  {
   "cell_type": "markdown",
   "id": "67cdb3c3",
   "metadata": {},
   "source": [
    "# PCA to words"
   ]
  },
  {
   "cell_type": "code",
   "execution_count": 6,
   "id": "84fbdffb",
   "metadata": {},
   "outputs": [],
   "source": [
    "words = ['oil', 'gas', 'happy', 'sad', 'city', 'town', 'village', 'country', 'continent', 'petroleum', 'joyful'] #test list"
   ]
  },
  {
   "cell_type": "code",
   "execution_count": 7,
   "id": "25001d8c",
   "metadata": {},
   "outputs": [],
   "source": [
    "word_embeddings = pickle.load(open(\"word_embeddings_subset.p\", \"rb\")) #loading word embeddings using pickle"
   ]
  },
  {
   "cell_type": "code",
   "execution_count": 8,
   "id": "503d7f56",
   "metadata": {},
   "outputs": [],
   "source": [
    "X = get_vecs(word_embeddings, words) #using get_vecs to convert our test list into embedding vectors"
   ]
  },
  {
   "cell_type": "code",
   "execution_count": 9,
   "id": "76115875",
   "metadata": {},
   "outputs": [],
   "source": [
    "X_pca = compute_pca(X, 2) #PCA with components=2 to get the reduced vectors"
   ]
  },
  {
   "cell_type": "code",
   "execution_count": 10,
   "id": "9d078c96",
   "metadata": {},
   "outputs": [
    {
     "data": {
      "text/plain": [
       "array([[ 2.27769765,  0.20897011],\n",
       "       [ 2.04779042,  0.02097415],\n",
       "       [-0.81606362,  1.2512863 ],\n",
       "       [-0.97212037,  1.74316923],\n",
       "       [-0.39811297, -1.11083617],\n",
       "       [-0.65214463, -1.31375708],\n",
       "       [-0.78685878, -1.62981695],\n",
       "       [-0.11435355, -0.43292907],\n",
       "       [-0.00702663, -0.59352059],\n",
       "       [ 2.51725106,  0.28024023],\n",
       "       [-0.85572345,  1.38267428]])"
      ]
     },
     "execution_count": 10,
     "metadata": {},
     "output_type": "execute_result"
    }
   ],
   "source": [
    "X_pca #reduced vector"
   ]
  },
  {
   "cell_type": "code",
   "execution_count": 11,
   "id": "077ab501",
   "metadata": {},
   "outputs": [
    {
     "data": {
      "image/png": "[encoded data removed]",
      "text/plain": [
       "<Figure size 432x288 with 1 Axes>"
      ]
     },
     "metadata": {
      "needs_background": "light"
     },
     "output_type": "display_data"
    }
   ],
   "source": [
    "plt.scatter(X[:,0], X[:,1])\n",
    "for i, word in enumerate(words):\n",
    "    plt.annotate(word, xy=(X[i,0], X[i,1]))\n",
    "    \n",
    "plt.show()"
   ]
  },
  {
   "cell_type": "code",
   "execution_count": null,
   "id": "8b7c5c9c",
   "metadata": {},
   "outputs": [],
   "source": []
  }
 ],
 "metadata": {
  "kernelspec": {
   "display_name": "Python 3 (ipykernel)",
   "language": "python",
   "name": "python3"
  },
  "language_info": {
   "codemirror_mode": {
    "name": "ipython",
    "version": 3
   },
   "file_extension": ".py",
   "mimetype": "text/x-python",
   "name": "python",
   "nbconvert_exporter": "python",
   "pygments_lexer": "ipython3",
   "version": "3.10.2"
  }
 },
 "nbformat": 4,
 "nbformat_minor": 5
}
